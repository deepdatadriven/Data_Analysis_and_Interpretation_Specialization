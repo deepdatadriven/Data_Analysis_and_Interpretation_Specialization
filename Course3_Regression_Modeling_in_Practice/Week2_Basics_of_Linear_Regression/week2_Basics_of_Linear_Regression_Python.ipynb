{
 "cells": [
  {
   "cell_type": "code",
   "execution_count": 1,
   "metadata": {},
   "outputs": [],
   "source": [
    "import numpy as np\n",
    "import pandas as pd\n",
    "\n",
    "## load data\n",
    "data = pd.read_csv(\"E:/Jupyter/DATA _ANALYST/1_Data_Management_and_Visualization/data/addhealth.csv\", low_memory=False)\n",
    "pd.set_option(\"display.float_format\", lambda x: '%f'%x)\n",
    "## convert column names to upper case\n",
    "data.columns = map(str.upper, data.columns)"
   ]
  },
  {
   "cell_type": "code",
   "execution_count": 2,
   "metadata": {},
   "outputs": [
    {
     "data": {
      "text/html": [
       "<div>\n",
       "<style scoped>\n",
       "    .dataframe tbody tr th:only-of-type {\n",
       "        vertical-align: middle;\n",
       "    }\n",
       "\n",
       "    .dataframe tbody tr th {\n",
       "        vertical-align: top;\n",
       "    }\n",
       "\n",
       "    .dataframe thead th {\n",
       "        text-align: right;\n",
       "    }\n",
       "</style>\n",
       "<table border=\"1\" class=\"dataframe\">\n",
       "  <thead>\n",
       "    <tr style=\"text-align: right;\">\n",
       "      <th></th>\n",
       "      <th>AID</th>\n",
       "      <th>H1GH2</th>\n",
       "      <th>H1ED1</th>\n",
       "      <th>H1ED2</th>\n",
       "      <th>H1GI1Y</th>\n",
       "      <th>H1TO16</th>\n",
       "      <th>H1TO7</th>\n",
       "    </tr>\n",
       "  </thead>\n",
       "  <tbody>\n",
       "    <tr>\n",
       "      <th>5</th>\n",
       "      <td>57104649</td>\n",
       "      <td>1</td>\n",
       "      <td>2</td>\n",
       "      <td>0</td>\n",
       "      <td>81</td>\n",
       "      <td>97</td>\n",
       "      <td>97</td>\n",
       "    </tr>\n",
       "    <tr>\n",
       "      <th>6</th>\n",
       "      <td>57104676</td>\n",
       "      <td>0</td>\n",
       "      <td>1</td>\n",
       "      <td>0</td>\n",
       "      <td>83</td>\n",
       "      <td>97</td>\n",
       "      <td>97</td>\n",
       "    </tr>\n",
       "    <tr>\n",
       "      <th>7</th>\n",
       "      <td>57109625</td>\n",
       "      <td>1</td>\n",
       "      <td>3</td>\n",
       "      <td>4</td>\n",
       "      <td>81</td>\n",
       "      <td>3</td>\n",
       "      <td>97</td>\n",
       "    </tr>\n",
       "    <tr>\n",
       "      <th>8</th>\n",
       "      <td>57110897</td>\n",
       "      <td>1</td>\n",
       "      <td>2</td>\n",
       "      <td>10</td>\n",
       "      <td>81</td>\n",
       "      <td>97</td>\n",
       "      <td>97</td>\n",
       "    </tr>\n",
       "    <tr>\n",
       "      <th>9</th>\n",
       "      <td>57111071</td>\n",
       "      <td>2</td>\n",
       "      <td>2</td>\n",
       "      <td>0</td>\n",
       "      <td>81</td>\n",
       "      <td>97</td>\n",
       "      <td>97</td>\n",
       "    </tr>\n",
       "  </tbody>\n",
       "</table>\n",
       "</div>"
      ],
      "text/plain": [
       "        AID  H1GH2  H1ED1 H1ED2  H1GI1Y  H1TO16  H1TO7\n",
       "5  57104649      1      2     0      81      97     97\n",
       "6  57104676      0      1     0      83      97     97\n",
       "7  57109625      1      3     4      81       3     97\n",
       "8  57110897      1      2    10      81      97     97\n",
       "9  57111071      2      2     0      81      97     97"
      ]
     },
     "execution_count": 2,
     "metadata": {},
     "output_type": "execute_result"
    }
   ],
   "source": [
    "## only keep the variables that will be analysis\n",
    "sub1 = data[['AID', 'H1GH2', 'H1ED1', 'H1ED2', 'H1GI1Y', 'H1TO16', 'H1TO7']]\n",
    "sub2 = sub1[(sub1['H1GI1Y'] >= 80)]\n",
    "sub = sub2.copy()\n",
    "sub.head()"
   ]
  },
  {
   "cell_type": "code",
   "execution_count": 3,
   "metadata": {},
   "outputs": [],
   "source": [
    "## convert object to numeric\n",
    "sub['H1GH2'] = pd.to_numeric(sub['H1GH2'], errors='coerce')\n",
    "sub['H1ED1'] = pd.to_numeric(sub['H1ED1'], errors='coerce')\n",
    "sub['H1ED2'] = pd.to_numeric(sub['H1ED2'], errors='coerce')\n",
    "sub['H1TO16'] = pd.to_numeric(sub['H1TO16'], errors='coerce')\n",
    "sub['H1TO7'] = pd.to_numeric(sub['H1TO7'], errors='coerce')"
   ]
  },
  {
   "cell_type": "code",
   "execution_count": 4,
   "metadata": {},
   "outputs": [],
   "source": [
    "## coding out missing data\n",
    "sub['H1GH2'] = sub['H1GH2'].replace([6,8], np.nan)\n",
    "sub['H1ED1'] = sub['H1ED1'].replace([6, 7, 8, 9], np.nan)\n",
    "sub['H1ED2'] = sub['H1ED2'].replace([996, 997, 998], np.nan)\n",
    "sub['H1TO16'] = sub['H1TO16'].replace([96, 97, 98, 99], np.nan)\n",
    "sub['H1TO7'] = sub['H1TO7'].replace([96, 97, 98], np.nan)"
   ]
  },
  {
   "cell_type": "code",
   "execution_count": 21,
   "metadata": {},
   "outputs": [],
   "source": [
    "## create secondary variables\n",
    "def times_skip(row):\n",
    "    if row['H1ED1']==0:\n",
    "        return 0\n",
    "    elif row['H1ED1']==1:\n",
    "        return 2\n",
    "    elif row['H1ED1']==2:\n",
    "        return 7\n",
    "    elif row['H1ED1']==3:\n",
    "        return 45\n",
    "    else:\n",
    "        return np.nan\n",
    "    \n",
    "sub['SKIPQU'] = sub.apply(lambda row: times_skip(row), axis=1)"
   ]
  },
  {
   "cell_type": "code",
   "execution_count": 22,
   "metadata": {},
   "outputs": [],
   "source": [
    "def total_skip(row):\n",
    "    if row['SKIPQU'] != np.nan and row['H1ED2'] != np.nan:\n",
    "        return row['SKIPQU']+row['H1ED2']\n",
    "    elif row['SKIPQU'] == np.nan and row['H1ED2'] != np.nan:\n",
    "        return row['H1ED2']\n",
    "    elif row['SKIPQU'] != np.nan and row['H1ED2'] == np.nan:\n",
    "        return row['SKIPQU']\n",
    "    else:\n",
    "        return np.nan\n",
    "    \n",
    "sub['SKIPFREQ'] = sub.apply(lambda row: total_skip(row), axis=1)"
   ]
  },
  {
   "cell_type": "code",
   "execution_count": 23,
   "metadata": {},
   "outputs": [],
   "source": [
    "## create secondary variables\n",
    "def head_level(row):\n",
    "    if row['H1GH2']==0:\n",
    "        return 0\n",
    "    elif row['H1GH2']==1:\n",
    "        return 0\n",
    "    elif row['H1GH2']==2:\n",
    "        return 0\n",
    "    elif row['H1GH2']==3:\n",
    "        return 1\n",
    "    elif row['H1GH2']==4:\n",
    "        return 1\n",
    "    else:\n",
    "        return np.nan\n",
    "    \n",
    "sub['HEADCAT'] = sub.apply(lambda row: head_level(row), axis=1)"
   ]
  },
  {
   "attachments": {
    "image.png": {
     "image/png": "[encoded data removed]"
    }
   },
   "cell_type": "markdown",
   "metadata": {},
   "source": [
    "![image.png](attachment:image.png)"
   ]
  },
  {
   "cell_type": "code",
   "execution_count": 24,
   "metadata": {},
   "outputs": [
    {
     "data": {
      "text/html": [
       "<table class=\"simpletable\">\n",
       "<caption>OLS Regression Results</caption>\n",
       "<tr>\n",
       "  <th>Dep. Variable:</th>        <td>SKIPFREQ</td>     <th>  R-squared:         </th> <td>   0.006</td> \n",
       "</tr>\n",
       "<tr>\n",
       "  <th>Model:</th>                   <td>OLS</td>       <th>  Adj. R-squared:    </th> <td>   0.005</td> \n",
       "</tr>\n",
       "<tr>\n",
       "  <th>Method:</th>             <td>Least Squares</td>  <th>  F-statistic:       </th> <td>   14.77</td> \n",
       "</tr>\n",
       "<tr>\n",
       "  <th>Date:</th>             <td>Fri, 13 Apr 2018</td> <th>  Prob (F-statistic):</th> <td>0.000124</td> \n",
       "</tr>\n",
       "<tr>\n",
       "  <th>Time:</th>                 <td>01:13:31</td>     <th>  Log-Likelihood:    </th> <td> -10367.</td> \n",
       "</tr>\n",
       "<tr>\n",
       "  <th>No. Observations:</th>      <td>  2545</td>      <th>  AIC:               </th> <td>2.074e+04</td>\n",
       "</tr>\n",
       "<tr>\n",
       "  <th>Df Residuals:</th>          <td>  2543</td>      <th>  BIC:               </th> <td>2.075e+04</td>\n",
       "</tr>\n",
       "<tr>\n",
       "  <th>Df Model:</th>              <td>     1</td>      <th>                     </th>     <td> </td>    \n",
       "</tr>\n",
       "<tr>\n",
       "  <th>Covariance Type:</th>      <td>nonrobust</td>    <th>                     </th>     <td> </td>    \n",
       "</tr>\n",
       "</table>\n",
       "<table class=\"simpletable\">\n",
       "<tr>\n",
       "      <td></td>         <th>coef</th>     <th>std err</th>      <th>t</th>      <th>P>|t|</th>  <th>[0.025</th>    <th>0.975]</th>  \n",
       "</tr>\n",
       "<tr>\n",
       "  <th>Intercept</th> <td>    9.5628</td> <td>    0.291</td> <td>   32.811</td> <td> 0.000</td> <td>    8.991</td> <td>   10.134</td>\n",
       "</tr>\n",
       "<tr>\n",
       "  <th>HEADCAT</th>   <td>    4.4128</td> <td>    1.148</td> <td>    3.844</td> <td> 0.000</td> <td>    2.161</td> <td>    6.664</td>\n",
       "</tr>\n",
       "</table>\n",
       "<table class=\"simpletable\">\n",
       "<tr>\n",
       "  <th>Omnibus:</th>       <td>1147.631</td> <th>  Durbin-Watson:     </th> <td>   2.003</td>\n",
       "</tr>\n",
       "<tr>\n",
       "  <th>Prob(Omnibus):</th>  <td> 0.000</td>  <th>  Jarque-Bera (JB):  </th> <td>4495.006</td>\n",
       "</tr>\n",
       "<tr>\n",
       "  <th>Skew:</th>           <td> 2.286</td>  <th>  Prob(JB):          </th> <td>    0.00</td>\n",
       "</tr>\n",
       "<tr>\n",
       "  <th>Kurtosis:</th>       <td> 7.636</td>  <th>  Cond. No.          </th> <td>    4.09</td>\n",
       "</tr>\n",
       "</table>"
      ],
      "text/plain": [
       "<class 'statsmodels.iolib.summary.Summary'>\n",
       "\"\"\"\n",
       "                            OLS Regression Results                            \n",
       "==============================================================================\n",
       "Dep. Variable:               SKIPFREQ   R-squared:                       0.006\n",
       "Model:                            OLS   Adj. R-squared:                  0.005\n",
       "Method:                 Least Squares   F-statistic:                     14.77\n",
       "Date:                Fri, 13 Apr 2018   Prob (F-statistic):           0.000124\n",
       "Time:                        01:13:31   Log-Likelihood:                -10367.\n",
       "No. Observations:                2545   AIC:                         2.074e+04\n",
       "Df Residuals:                    2543   BIC:                         2.075e+04\n",
       "Df Model:                           1                                         \n",
       "Covariance Type:            nonrobust                                         \n",
       "==============================================================================\n",
       "                 coef    std err          t      P>|t|      [0.025      0.975]\n",
       "------------------------------------------------------------------------------\n",
       "Intercept      9.5628      0.291     32.811      0.000       8.991      10.134\n",
       "HEADCAT        4.4128      1.148      3.844      0.000       2.161       6.664\n",
       "==============================================================================\n",
       "Omnibus:                     1147.631   Durbin-Watson:                   2.003\n",
       "Prob(Omnibus):                  0.000   Jarque-Bera (JB):             4495.006\n",
       "Skew:                           2.286   Prob(JB):                         0.00\n",
       "Kurtosis:                       7.636   Cond. No.                         4.09\n",
       "==============================================================================\n",
       "\n",
       "Warnings:\n",
       "[1] Standard Errors assume that the covariance matrix of the errors is correctly specified.\n",
       "\"\"\""
      ]
     },
     "execution_count": 24,
     "metadata": {},
     "output_type": "execute_result"
    }
   ],
   "source": [
    "import statsmodels.formula.api as smf\n",
    "\n",
    "model1 = smf.ols(formula = 'SKIPFREQ ~ HEADCAT', data = sub).fit()\n",
    "model1.summary()"
   ]
  },
  {
   "cell_type": "code",
   "execution_count": 25,
   "metadata": {},
   "outputs": [
    {
     "data": {
      "text/html": [
       "<div>\n",
       "<style scoped>\n",
       "    .dataframe tbody tr th:only-of-type {\n",
       "        vertical-align: middle;\n",
       "    }\n",
       "\n",
       "    .dataframe tbody tr th {\n",
       "        vertical-align: top;\n",
       "    }\n",
       "\n",
       "    .dataframe thead th {\n",
       "        text-align: right;\n",
       "    }\n",
       "</style>\n",
       "<table border=\"1\" class=\"dataframe\">\n",
       "  <thead>\n",
       "    <tr style=\"text-align: right;\">\n",
       "      <th></th>\n",
       "      <th>AID</th>\n",
       "      <th>H1GH2</th>\n",
       "      <th>H1ED1</th>\n",
       "      <th>H1ED2</th>\n",
       "      <th>H1GI1Y</th>\n",
       "      <th>H1TO16</th>\n",
       "      <th>H1TO7</th>\n",
       "      <th>SKIPQU</th>\n",
       "      <th>SKIPFREQ</th>\n",
       "    </tr>\n",
       "    <tr>\n",
       "      <th>HEADCAT</th>\n",
       "      <th></th>\n",
       "      <th></th>\n",
       "      <th></th>\n",
       "      <th></th>\n",
       "      <th></th>\n",
       "      <th></th>\n",
       "      <th></th>\n",
       "      <th></th>\n",
       "      <th></th>\n",
       "    </tr>\n",
       "  </thead>\n",
       "  <tbody>\n",
       "    <tr>\n",
       "      <th>0.000000</th>\n",
       "      <td>94098852.829725</td>\n",
       "      <td>1.137386</td>\n",
       "      <td>1.562081</td>\n",
       "      <td>0.738145</td>\n",
       "      <td>80.813489</td>\n",
       "      <td>4.451064</td>\n",
       "      <td>4.782396</td>\n",
       "      <td>8.819631</td>\n",
       "      <td>9.562789</td>\n",
       "    </tr>\n",
       "    <tr>\n",
       "      <th>1.000000</th>\n",
       "      <td>94228977.898810</td>\n",
       "      <td>3.148810</td>\n",
       "      <td>1.793939</td>\n",
       "      <td>0.469880</td>\n",
       "      <td>80.779762</td>\n",
       "      <td>5.275362</td>\n",
       "      <td>5.317073</td>\n",
       "      <td>13.460606</td>\n",
       "      <td>13.975610</td>\n",
       "    </tr>\n",
       "  </tbody>\n",
       "</table>\n",
       "</div>"
      ],
      "text/plain": [
       "                     AID    H1GH2    H1ED1    H1ED2    H1GI1Y   H1TO16  \\\n",
       "HEADCAT                                                                  \n",
       "0.000000 94098852.829725 1.137386 1.562081 0.738145 80.813489 4.451064   \n",
       "1.000000 94228977.898810 3.148810 1.793939 0.469880 80.779762 5.275362   \n",
       "\n",
       "            H1TO7    SKIPQU  SKIPFREQ  \n",
       "HEADCAT                                \n",
       "0.000000 4.782396  8.819631  9.562789  \n",
       "1.000000 5.317073 13.460606 13.975610  "
      ]
     },
     "execution_count": 25,
     "metadata": {},
     "output_type": "execute_result"
    }
   ],
   "source": [
    "c1 = sub.groupby('HEADCAT').mean()\n",
    "c1"
   ]
  },
  {
   "cell_type": "code",
   "execution_count": 26,
   "metadata": {},
   "outputs": [
    {
     "data": {
      "text/html": [
       "<div>\n",
       "<style scoped>\n",
       "    .dataframe tbody tr th:only-of-type {\n",
       "        vertical-align: middle;\n",
       "    }\n",
       "\n",
       "    .dataframe tbody tr th {\n",
       "        vertical-align: top;\n",
       "    }\n",
       "\n",
       "    .dataframe thead th {\n",
       "        text-align: right;\n",
       "    }\n",
       "</style>\n",
       "<table border=\"1\" class=\"dataframe\">\n",
       "  <thead>\n",
       "    <tr style=\"text-align: right;\">\n",
       "      <th></th>\n",
       "      <th>AID</th>\n",
       "      <th>H1GH2</th>\n",
       "      <th>H1ED1</th>\n",
       "      <th>H1ED2</th>\n",
       "      <th>H1GI1Y</th>\n",
       "      <th>H1TO16</th>\n",
       "      <th>H1TO7</th>\n",
       "      <th>SKIPQU</th>\n",
       "      <th>SKIPFREQ</th>\n",
       "    </tr>\n",
       "    <tr>\n",
       "      <th>HEADCAT</th>\n",
       "      <th></th>\n",
       "      <th></th>\n",
       "      <th></th>\n",
       "      <th></th>\n",
       "      <th></th>\n",
       "      <th></th>\n",
       "      <th></th>\n",
       "      <th></th>\n",
       "      <th></th>\n",
       "    </tr>\n",
       "  </thead>\n",
       "  <tbody>\n",
       "    <tr>\n",
       "      <th>0.000000</th>\n",
       "      <td>7002588.606254</td>\n",
       "      <td>0.555411</td>\n",
       "      <td>0.834328</td>\n",
       "      <td>4.043456</td>\n",
       "      <td>0.791574</td>\n",
       "      <td>6.200321</td>\n",
       "      <td>6.104810</td>\n",
       "      <td>13.072323</td>\n",
       "      <td>13.995195</td>\n",
       "    </tr>\n",
       "    <tr>\n",
       "      <th>1.000000</th>\n",
       "      <td>5765751.612288</td>\n",
       "      <td>0.356965</td>\n",
       "      <td>0.893725</td>\n",
       "      <td>1.504235</td>\n",
       "      <td>0.753639</td>\n",
       "      <td>6.342861</td>\n",
       "      <td>6.926179</td>\n",
       "      <td>16.898368</td>\n",
       "      <td>17.188936</td>\n",
       "    </tr>\n",
       "  </tbody>\n",
       "</table>\n",
       "</div>"
      ],
      "text/plain": [
       "                    AID    H1GH2    H1ED1    H1ED2   H1GI1Y   H1TO16    H1TO7  \\\n",
       "HEADCAT                                                                         \n",
       "0.000000 7002588.606254 0.555411 0.834328 4.043456 0.791574 6.200321 6.104810   \n",
       "1.000000 5765751.612288 0.356965 0.893725 1.504235 0.753639 6.342861 6.926179   \n",
       "\n",
       "            SKIPQU  SKIPFREQ  \n",
       "HEADCAT                       \n",
       "0.000000 13.072323 13.995195  \n",
       "1.000000 16.898368 17.188936  "
      ]
     },
     "execution_count": 26,
     "metadata": {},
     "output_type": "execute_result"
    }
   ],
   "source": [
    "c2 = sub.groupby('HEADCAT').std()\n",
    "c2"
   ]
  },
  {
   "cell_type": "code",
   "execution_count": 27,
   "metadata": {},
   "outputs": [
    {
     "data": {
      "image/png": "[encoded data removed]",
      "text/plain": [
       "<matplotlib.figure.Figure at 0x152ba3e8c88>"
      ]
     },
     "metadata": {},
     "output_type": "display_data"
    }
   ],
   "source": [
    "import seaborn as sns\n",
    "import matplotlib.pyplot as plt\n",
    "\n",
    "sns.factorplot(x='HEADCAT', y='SKIPFREQ', data=sub, kind='bar', ci=None)\n",
    "plt.show()"
   ]
  },
  {
   "cell_type": "code",
   "execution_count": 28,
   "metadata": {},
   "outputs": [],
   "source": [
    "sub1 = sub.dropna()"
   ]
  },
  {
   "cell_type": "code",
   "execution_count": 29,
   "metadata": {},
   "outputs": [
    {
     "data": {
      "image/png": "[encoded data removed]",
      "text/plain": [
       "<matplotlib.figure.Figure at 0x152ba3d4a20>"
      ]
     },
     "metadata": {},
     "output_type": "display_data"
    }
   ],
   "source": [
    "ax = sns.regplot(x='H1TO7', y='H1TO16', fit_reg=True, data=sub1)"
   ]
  },
  {
   "cell_type": "code",
   "execution_count": 6,
   "metadata": {},
   "outputs": [
    {
     "data": {
      "text/html": [
       "<table class=\"simpletable\">\n",
       "<caption>OLS Regression Results</caption>\n",
       "<tr>\n",
       "  <th>Dep. Variable:</th>         <td>H1TO16</td>      <th>  R-squared:         </th> <td>   0.062</td>\n",
       "</tr>\n",
       "<tr>\n",
       "  <th>Model:</th>                   <td>OLS</td>       <th>  Adj. R-squared:    </th> <td>   0.059</td>\n",
       "</tr>\n",
       "<tr>\n",
       "  <th>Method:</th>             <td>Least Squares</td>  <th>  F-statistic:       </th> <td>   21.00</td>\n",
       "</tr>\n",
       "<tr>\n",
       "  <th>Date:</th>             <td>Fri, 13 Apr 2018</td> <th>  Prob (F-statistic):</th> <td>6.63e-06</td>\n",
       "</tr>\n",
       "<tr>\n",
       "  <th>Time:</th>                 <td>01:25:16</td>     <th>  Log-Likelihood:    </th> <td> -1062.6</td>\n",
       "</tr>\n",
       "<tr>\n",
       "  <th>No. Observations:</th>      <td>   318</td>      <th>  AIC:               </th> <td>   2129.</td>\n",
       "</tr>\n",
       "<tr>\n",
       "  <th>Df Residuals:</th>          <td>   316</td>      <th>  BIC:               </th> <td>   2137.</td>\n",
       "</tr>\n",
       "<tr>\n",
       "  <th>Df Model:</th>              <td>     1</td>      <th>                     </th>     <td> </td>   \n",
       "</tr>\n",
       "<tr>\n",
       "  <th>Covariance Type:</th>      <td>nonrobust</td>    <th>                     </th>     <td> </td>   \n",
       "</tr>\n",
       "</table>\n",
       "<table class=\"simpletable\">\n",
       "<tr>\n",
       "      <td></td>         <th>coef</th>     <th>std err</th>      <th>t</th>      <th>P>|t|</th>  <th>[0.025</th>    <th>0.975]</th>  \n",
       "</tr>\n",
       "<tr>\n",
       "  <th>Intercept</th> <td>    3.9101</td> <td>    0.498</td> <td>    7.847</td> <td> 0.000</td> <td>    2.930</td> <td>    4.890</td>\n",
       "</tr>\n",
       "<tr>\n",
       "  <th>H1TO7</th>     <td>    0.2842</td> <td>    0.062</td> <td>    4.582</td> <td> 0.000</td> <td>    0.162</td> <td>    0.406</td>\n",
       "</tr>\n",
       "</table>\n",
       "<table class=\"simpletable\">\n",
       "<tr>\n",
       "  <th>Omnibus:</th>       <td>454.557</td> <th>  Durbin-Watson:     </th> <td>   2.001</td> \n",
       "</tr>\n",
       "<tr>\n",
       "  <th>Prob(Omnibus):</th> <td> 0.000</td>  <th>  Jarque-Bera (JB):  </th> <td>76724.667</td>\n",
       "</tr>\n",
       "<tr>\n",
       "  <th>Skew:</th>          <td> 6.919</td>  <th>  Prob(JB):          </th> <td>    0.00</td> \n",
       "</tr>\n",
       "<tr>\n",
       "  <th>Kurtosis:</th>      <td>77.827</td>  <th>  Cond. No.          </th> <td>    10.5</td> \n",
       "</tr>\n",
       "</table>"
      ],
      "text/plain": [
       "<class 'statsmodels.iolib.summary.Summary'>\n",
       "\"\"\"\n",
       "                            OLS Regression Results                            \n",
       "==============================================================================\n",
       "Dep. Variable:                 H1TO16   R-squared:                       0.062\n",
       "Model:                            OLS   Adj. R-squared:                  0.059\n",
       "Method:                 Least Squares   F-statistic:                     21.00\n",
       "Date:                Fri, 13 Apr 2018   Prob (F-statistic):           6.63e-06\n",
       "Time:                        01:25:16   Log-Likelihood:                -1062.6\n",
       "No. Observations:                 318   AIC:                             2129.\n",
       "Df Residuals:                     316   BIC:                             2137.\n",
       "Df Model:                           1                                         \n",
       "Covariance Type:            nonrobust                                         \n",
       "==============================================================================\n",
       "                 coef    std err          t      P>|t|      [0.025      0.975]\n",
       "------------------------------------------------------------------------------\n",
       "Intercept      3.9101      0.498      7.847      0.000       2.930       4.890\n",
       "H1TO7          0.2842      0.062      4.582      0.000       0.162       0.406\n",
       "==============================================================================\n",
       "Omnibus:                      454.557   Durbin-Watson:                   2.001\n",
       "Prob(Omnibus):                  0.000   Jarque-Bera (JB):            76724.667\n",
       "Skew:                           6.919   Prob(JB):                         0.00\n",
       "Kurtosis:                      77.827   Cond. No.                         10.5\n",
       "==============================================================================\n",
       "\n",
       "Warnings:\n",
       "[1] Standard Errors assume that the covariance matrix of the errors is correctly specified.\n",
       "\"\"\""
      ]
     },
     "execution_count": 6,
     "metadata": {},
     "output_type": "execute_result"
    }
   ],
   "source": [
    "import statsmodels.formula.api as smf\n",
    "\n",
    "model2 = smf.ols(formula = 'H1TO16 ~ H1TO7', data = sub).fit()\n",
    "model2.summary()"
   ]
  },
  {
   "cell_type": "code",
   "execution_count": 7,
   "metadata": {},
   "outputs": [
    {
     "data": {
      "text/plain": [
       "74.1070110701107"
      ]
     },
     "execution_count": 7,
     "metadata": {},
     "output_type": "execute_result"
    }
   ],
   "source": [
    "sub1['H1TO7'].mean()"
   ]
  },
  {
   "cell_type": "code",
   "execution_count": 8,
   "metadata": {},
   "outputs": [
    {
     "name": "stderr",
     "output_type": "stream",
     "text": [
      "D:\\Users\\beniu\\Anaconda3\\lib\\site-packages\\ipykernel_launcher.py:1: SettingWithCopyWarning: \n",
      "A value is trying to be set on a copy of a slice from a DataFrame.\n",
      "Try using .loc[row_indexer,col_indexer] = value instead\n",
      "\n",
      "See the caveats in the documentation: http://pandas.pydata.org/pandas-docs/stable/indexing.html#indexing-view-versus-copy\n",
      "  \"\"\"Entry point for launching an IPython kernel.\n"
     ]
    }
   ],
   "source": [
    "sub1['H1TO7'] = sub1['H1TO7'] - 74.1070110701107"
   ]
  },
  {
   "cell_type": "code",
   "execution_count": 9,
   "metadata": {},
   "outputs": [
    {
     "data": {
      "text/plain": [
       "-2.265783570059114e-14"
      ]
     },
     "execution_count": 9,
     "metadata": {},
     "output_type": "execute_result"
    }
   ],
   "source": [
    "sub1['H1TO7'].mean()"
   ]
  },
  {
   "cell_type": "code",
   "execution_count": null,
   "metadata": {},
   "outputs": [],
   "source": []
  },
  {
   "cell_type": "code",
   "execution_count": null,
   "metadata": {},
   "outputs": [],
   "source": []
  }
 ],
 "metadata": {
  "kernelspec": {
   "display_name": "Python 3",
   "language": "python",
   "name": "python3"
  },
  "language_info": {
   "codemirror_mode": {
    "name": "ipython",
    "version": 3
   },
   "file_extension": ".py",
   "mimetype": "text/x-python",
   "name": "python",
   "nbconvert_exporter": "python",
   "pygments_lexer": "ipython3",
   "version": "3.5.4"
  }
 },
 "nbformat": 4,
 "nbformat_minor": 2
}
