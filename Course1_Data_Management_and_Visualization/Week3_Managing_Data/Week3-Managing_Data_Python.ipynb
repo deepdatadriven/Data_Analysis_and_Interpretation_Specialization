{
 "cells": [
  {
   "attachments": {
    "image.png": {
     "image/png": "[encoded data removed]"
    }
   },
   "cell_type": "markdown",
   "metadata": {},
   "source": [
    "# Main Command\n",
    "1. sub['H1GH2'] = sub['H1GH2'].replace((6,8), np.nan)\n",
    "2. sub.loc[(sub['S2AQ3'] != 9) & (data['S2AQ8A'].isnull()), 'S2AQ8A'] = 11\n",
    "3. <br>\n",
    "record1 = {1:6, 2:5, 3:4, 4:3, 5:2, 6:1}<br>\n",
    "sub['USFREQ'] = sub['S3AQ381'].map(record1)<br>\n",
    "4. sub['SKIP'] = sub['H1ED1'] + sub['H1ED2']\n",
    "5. sub1 = sub[['AID', 'H1ED1', 'H1ED2', 'SKIP']]\n",
    "6. ![image.png](attachment:image.png)\n",
    "7. data['TEST1'] = pd.cut(data.H1GI3, [5, 10, 14, 19])\n",
    "8. data['TEST'] = pd.qcut(data.H1GI3, 4, labels=['25%', '50%', '75%', '100%'])"
   ]
  },
  {
   "cell_type": "markdown",
   "metadata": {},
   "source": [
    "# Import data"
   ]
  },
  {
   "cell_type": "code",
   "execution_count": 66,
   "metadata": {},
   "outputs": [],
   "source": [
    "import pandas as pd\n",
    "import numpy as np\n",
    "\n",
    "data = pd.read_csv(\"../data/addhealth.csv\", low_memory=False)"
   ]
  },
  {
   "cell_type": "code",
   "execution_count": 67,
   "metadata": {},
   "outputs": [],
   "source": [
    "# select the attribute we will use\n",
    "sub1 = data[['AID', 'H1GH2', 'H1DA1', 'H1DA2', 'H1DA4', 'H1DA5', 'H1DA6', 'H1DA7', 'H1ED1', 'H1ED2']]\n",
    "sub = sub1.copy()"
   ]
  },
  {
   "cell_type": "code",
   "execution_count": 68,
   "metadata": {},
   "outputs": [],
   "source": [
    "sub['H1ED1'] = pd.to_numeric(sub['H1ED1'], errors='coerce')\n",
    "sub['H1ED2'] = pd.to_numeric(sub['H1ED2'], errors='coerce')\n",
    "\n",
    "data['H1GI4'] = pd.to_numeric(data['H1GI4'], errors='coerce')\n",
    "data['H1GI6A'] = pd.to_numeric(data['H1GI6A'], errors='coerce')\n",
    "data['H1GI6B'] = pd.to_numeric(data['H1GI6B'], errors='coerce')\n",
    "data['H1GI6C'] = pd.to_numeric(data['H1GI6C'], errors='coerce')\n",
    "data['H1GI6D'] = pd.to_numeric(data['H1GI6D'], errors='coerce')\n",
    "data['H1GI3'] = pd.to_numeric(data['H1GI3'], errors='coerce')"
   ]
  },
  {
   "cell_type": "code",
   "execution_count": 34,
   "metadata": {},
   "outputs": [],
   "source": [
    "# replace useless values to NAN\n",
    "sub['H1GH2'] = sub['H1GH2'].replace((6,8), np.nan)\n",
    "sub['H1DA1'] = sub['H1DA1'].replace((6,8), np.nan)\n",
    "sub['H1DA2'] = sub['H1DA2'].replace((6,8), np.nan)\n",
    "sub['H1DA4'] = sub['H1DA4'].replace((6,8), np.nan)\n",
    "sub['H1DA5'] = sub['H1DA5'].replace((6,8), np.nan)\n",
    "sub['H1DA6'] = sub['H1DA6'].replace((6,8), np.nan)\n",
    "sub['H1DA7'] = sub['H1DA7'].replace((6,8), np.nan)\n",
    "sub['H1ED1'] = sub['H1ED1'].replace((6,7,8,9), np.nan)\n",
    "sub['H1ED2'] = sub['H1ED2'].replace((996,997,998), np.nan)"
   ]
  },
  {
   "cell_type": "code",
   "execution_count": 35,
   "metadata": {},
   "outputs": [
    {
     "data": {
      "text/plain": [
       " 1.0    4016\n",
       " 2.0    1441\n",
       " 0.0     578\n",
       " 4.0      72\n",
       " 3.0     390\n",
       "NaN        7\n",
       "Name: H1GH2, dtype: int64"
      ]
     },
     "execution_count": 35,
     "metadata": {},
     "output_type": "execute_result"
    }
   ],
   "source": [
    "# print the frequency of H1GH2\n",
    "c1 = sub['H1GH2'].value_counts(sort=False, dropna=False)\n",
    "c1"
   ]
  },
  {
   "cell_type": "code",
   "execution_count": 36,
   "metadata": {},
   "outputs": [
    {
     "data": {
      "text/plain": [
       "H1GH2\n",
       "0.0     578\n",
       "1.0    4016\n",
       "2.0    1441\n",
       "3.0     390\n",
       "4.0      72\n",
       "dtype: int64"
      ]
     },
     "execution_count": 36,
     "metadata": {},
     "output_type": "execute_result"
    }
   ],
   "source": [
    "# print the frequency of H1GH2\n",
    "ct1 = sub.groupby('H1GH2').size()\n",
    "ct1"
   ]
  },
  {
   "cell_type": "markdown",
   "metadata": {},
   "source": [
    "# Recover missing data to provide valid information"
   ]
  },
  {
   "cell_type": "code",
   "execution_count": null,
   "metadata": {},
   "outputs": [],
   "source": [
    "# this example is from other survey: \n",
    "sub.loc[(sub['S2AQ3'] != 9) & (data['S2AQ8A'].isnull()), 'S2AQ8A'] = 11"
   ]
  },
  {
   "cell_type": "markdown",
   "metadata": {},
   "source": [
    "# Reverse data order: if higher value mean less and lower value mean more"
   ]
  },
  {
   "cell_type": "code",
   "execution_count": null,
   "metadata": {},
   "outputs": [],
   "source": [
    "# this example is from other survey: \n",
    "record1 = {1:6, 2:5, 3:4, 4:3, 5:2, 6:1}\n",
    "sub['USFREQ'] = sub['S3AQ381'].map(record1)\n",
    "\n",
    "record2 = {1:30, 2:22, 3:14, 4:5, 5:2.5, 6:1}\n",
    "sub['USFREQMO'] = sub['S3AQ381'].map(record2)"
   ]
  },
  {
   "cell_type": "markdown",
   "metadata": {},
   "source": [
    "# Create secondary variable"
   ]
  },
  {
   "cell_type": "code",
   "execution_count": 37,
   "metadata": {},
   "outputs": [
    {
     "data": {
      "text/html": [
       "<div>\n",
       "<style scoped>\n",
       "    .dataframe tbody tr th:only-of-type {\n",
       "        vertical-align: middle;\n",
       "    }\n",
       "\n",
       "    .dataframe tbody tr th {\n",
       "        vertical-align: top;\n",
       "    }\n",
       "\n",
       "    .dataframe thead th {\n",
       "        text-align: right;\n",
       "    }\n",
       "</style>\n",
       "<table border=\"1\" class=\"dataframe\">\n",
       "  <thead>\n",
       "    <tr style=\"text-align: right;\">\n",
       "      <th></th>\n",
       "      <th>AID</th>\n",
       "      <th>H1ED1</th>\n",
       "      <th>H1ED2</th>\n",
       "      <th>SKIP</th>\n",
       "    </tr>\n",
       "  </thead>\n",
       "  <tbody>\n",
       "    <tr>\n",
       "      <th>0</th>\n",
       "      <td>57100270</td>\n",
       "      <td>NaN</td>\n",
       "      <td>NaN</td>\n",
       "      <td>NaN</td>\n",
       "    </tr>\n",
       "    <tr>\n",
       "      <th>1</th>\n",
       "      <td>57101310</td>\n",
       "      <td>1.0</td>\n",
       "      <td>15.0</td>\n",
       "      <td>16.0</td>\n",
       "    </tr>\n",
       "    <tr>\n",
       "      <th>2</th>\n",
       "      <td>57103171</td>\n",
       "      <td>2.0</td>\n",
       "      <td>0.0</td>\n",
       "      <td>2.0</td>\n",
       "    </tr>\n",
       "    <tr>\n",
       "      <th>3</th>\n",
       "      <td>57103869</td>\n",
       "      <td>3.0</td>\n",
       "      <td>3.0</td>\n",
       "      <td>6.0</td>\n",
       "    </tr>\n",
       "    <tr>\n",
       "      <th>4</th>\n",
       "      <td>57104553</td>\n",
       "      <td>3.0</td>\n",
       "      <td>0.0</td>\n",
       "      <td>3.0</td>\n",
       "    </tr>\n",
       "  </tbody>\n",
       "</table>\n",
       "</div>"
      ],
      "text/plain": [
       "        AID  H1ED1  H1ED2  SKIP\n",
       "0  57100270    NaN    NaN   NaN\n",
       "1  57101310    1.0   15.0  16.0\n",
       "2  57103171    2.0    0.0   2.0\n",
       "3  57103869    3.0    3.0   6.0\n",
       "4  57104553    3.0    0.0   3.0"
      ]
     },
     "execution_count": 37,
     "metadata": {},
     "output_type": "execute_result"
    }
   ],
   "source": [
    "sub['SKIP'] = sub['H1ED1'] + sub['H1ED2']\n",
    "cc = sub['SKIP'].value_counts()\n",
    "sub1 = sub[['AID', 'H1ED1', 'H1ED2', 'SKIP']]\n",
    "sub1.head()"
   ]
  },
  {
   "cell_type": "code",
   "execution_count": 46,
   "metadata": {},
   "outputs": [],
   "source": [
    "data['NUMETH'] = data['H1GI4'] + data['H1GI6A'] + data['H1GI6B'] + data['H1GI6C'] + data['H1GI6D']\n",
    "sub4 = data[['H1GI4', 'H1GI6A', 'H1GI6B', 'H1GI6C', 'H1GI6D', 'NUMETH']]"
   ]
  },
  {
   "cell_type": "code",
   "execution_count": 45,
   "metadata": {},
   "outputs": [
    {
     "data": {
      "text/plain": [
       "NUMETH\n",
       "0       47\n",
       "1     5758\n",
       "2      614\n",
       "3       40\n",
       "4        6\n",
       "6        1\n",
       "7        1\n",
       "9       17\n",
       "10       1\n",
       "24       1\n",
       "25       2\n",
       "30       1\n",
       "32       3\n",
       "33      10\n",
       "40       2\n",
       "dtype: int64"
      ]
     },
     "execution_count": 45,
     "metadata": {},
     "output_type": "execute_result"
    }
   ],
   "source": [
    "ct2 = data.groupby('NUMETH').size()\n",
    "ct2"
   ]
  },
  {
   "cell_type": "code",
   "execution_count": 51,
   "metadata": {},
   "outputs": [],
   "source": [
    "def ethnicity(row):\n",
    "    if row['NUMETH'] > 1:\n",
    "        return 1\n",
    "    elif row['H1GI4'] == 1:\n",
    "        return 2\n",
    "    elif row['H1GI6A'] == 1:\n",
    "        return 3\n",
    "    elif row['H1GI6B'] == 1:\n",
    "        return 4\n",
    "    elif row['H1GI6C'] == 1:\n",
    "        return 5\n",
    "    elif row['H1GI6D'] == 1:\n",
    "        return 6    "
   ]
  },
  {
   "cell_type": "code",
   "execution_count": 52,
   "metadata": {},
   "outputs": [
    {
     "name": "stderr",
     "output_type": "stream",
     "text": [
      "D:\\Users\\beniu\\Anaconda3\\lib\\site-packages\\ipykernel_launcher.py:1: SettingWithCopyWarning: \n",
      "A value is trying to be set on a copy of a slice from a DataFrame.\n",
      "Try using .loc[row_indexer,col_indexer] = value instead\n",
      "\n",
      "See the caveats in the documentation: http://pandas.pydata.org/pandas-docs/stable/indexing.html#indexing-view-versus-copy\n",
      "  \"\"\"Entry point for launching an IPython kernel.\n"
     ]
    },
    {
     "data": {
      "text/html": [
       "<div>\n",
       "<style scoped>\n",
       "    .dataframe tbody tr th:only-of-type {\n",
       "        vertical-align: middle;\n",
       "    }\n",
       "\n",
       "    .dataframe tbody tr th {\n",
       "        vertical-align: top;\n",
       "    }\n",
       "\n",
       "    .dataframe thead th {\n",
       "        text-align: right;\n",
       "    }\n",
       "</style>\n",
       "<table border=\"1\" class=\"dataframe\">\n",
       "  <thead>\n",
       "    <tr style=\"text-align: right;\">\n",
       "      <th></th>\n",
       "      <th>H1GI4</th>\n",
       "      <th>H1GI6A</th>\n",
       "      <th>H1GI6B</th>\n",
       "      <th>H1GI6C</th>\n",
       "      <th>H1GI6D</th>\n",
       "      <th>NUMETH</th>\n",
       "      <th>ETH</th>\n",
       "    </tr>\n",
       "  </thead>\n",
       "  <tbody>\n",
       "    <tr>\n",
       "      <th>0</th>\n",
       "      <td>0</td>\n",
       "      <td>0</td>\n",
       "      <td>1</td>\n",
       "      <td>0</td>\n",
       "      <td>0</td>\n",
       "      <td>1</td>\n",
       "      <td>4.0</td>\n",
       "    </tr>\n",
       "    <tr>\n",
       "      <th>1</th>\n",
       "      <td>0</td>\n",
       "      <td>0</td>\n",
       "      <td>1</td>\n",
       "      <td>0</td>\n",
       "      <td>0</td>\n",
       "      <td>1</td>\n",
       "      <td>4.0</td>\n",
       "    </tr>\n",
       "    <tr>\n",
       "      <th>2</th>\n",
       "      <td>0</td>\n",
       "      <td>1</td>\n",
       "      <td>0</td>\n",
       "      <td>0</td>\n",
       "      <td>0</td>\n",
       "      <td>1</td>\n",
       "      <td>3.0</td>\n",
       "    </tr>\n",
       "    <tr>\n",
       "      <th>3</th>\n",
       "      <td>0</td>\n",
       "      <td>0</td>\n",
       "      <td>1</td>\n",
       "      <td>0</td>\n",
       "      <td>0</td>\n",
       "      <td>1</td>\n",
       "      <td>4.0</td>\n",
       "    </tr>\n",
       "    <tr>\n",
       "      <th>4</th>\n",
       "      <td>0</td>\n",
       "      <td>0</td>\n",
       "      <td>1</td>\n",
       "      <td>0</td>\n",
       "      <td>0</td>\n",
       "      <td>1</td>\n",
       "      <td>4.0</td>\n",
       "    </tr>\n",
       "  </tbody>\n",
       "</table>\n",
       "</div>"
      ],
      "text/plain": [
       "   H1GI4  H1GI6A  H1GI6B  H1GI6C  H1GI6D  NUMETH  ETH\n",
       "0      0       0       1       0       0       1  4.0\n",
       "1      0       0       1       0       0       1  4.0\n",
       "2      0       1       0       0       0       1  3.0\n",
       "3      0       0       1       0       0       1  4.0\n",
       "4      0       0       1       0       0       1  4.0"
      ]
     },
     "execution_count": 52,
     "metadata": {},
     "output_type": "execute_result"
    }
   ],
   "source": [
    "sub4['ETH'] = sub4.apply(lambda row: ethnicity(row), axis=1)\n",
    "sub4.head()"
   ]
  },
  {
   "cell_type": "code",
   "execution_count": 57,
   "metadata": {},
   "outputs": [],
   "source": [
    "def skip_bin(row):\n",
    "    if row['H1ED2'] == 0:\n",
    "        return 0\n",
    "    elif row['H1ED2'] > 0 and row['H1ED2'] <= 2:\n",
    "        return 1\n",
    "    elif row['H1ED2'] > 2 and row['H1ED2'] <= 10:\n",
    "        return 2\n",
    "    elif row['H1ED2'] > 10:\n",
    "        return 3"
   ]
  },
  {
   "cell_type": "code",
   "execution_count": 60,
   "metadata": {},
   "outputs": [
    {
     "data": {
      "text/plain": [
       " 0.0    4571\n",
       " 1.0     830\n",
       " 2.0     694\n",
       " 3.0     262\n",
       "NaN      147\n",
       "Name: SKIP, dtype: int64"
      ]
     },
     "execution_count": 60,
     "metadata": {},
     "output_type": "execute_result"
    }
   ],
   "source": [
    "sub['SKIP'] = sub.apply(lambda row: skip_bin(row), axis=1)\n",
    "ck = sub['SKIP'].value_counts(dropna=False)\n",
    "ck"
   ]
  },
  {
   "cell_type": "code",
   "execution_count": 61,
   "metadata": {},
   "outputs": [],
   "source": [
    "def skip_sec(row):\n",
    "    if row['H1ED1'] != np.nan and row['SKIP'] != np.nan:\n",
    "        return row['H1ED1'] + row['SKIP']\n",
    "    elif row['H1ED1'] == np.nan and row['SKIP'] != np.nan:\n",
    "        return row['SKIP']\n",
    "    elif row['H1ED1'] != np.nan and row['SKIP'] == np.nan:\n",
    "        return row['H1ED1']\n",
    "    elif row['H1ED1'] == np.nan and row['SKIP'] == np.nan:\n",
    "        return np.nan"
   ]
  },
  {
   "cell_type": "code",
   "execution_count": 63,
   "metadata": {},
   "outputs": [
    {
     "data": {
      "text/html": [
       "<div>\n",
       "<style scoped>\n",
       "    .dataframe tbody tr th:only-of-type {\n",
       "        vertical-align: middle;\n",
       "    }\n",
       "\n",
       "    .dataframe tbody tr th {\n",
       "        vertical-align: top;\n",
       "    }\n",
       "\n",
       "    .dataframe thead th {\n",
       "        text-align: right;\n",
       "    }\n",
       "</style>\n",
       "<table border=\"1\" class=\"dataframe\">\n",
       "  <thead>\n",
       "    <tr style=\"text-align: right;\">\n",
       "      <th></th>\n",
       "      <th>AID</th>\n",
       "      <th>H1GH2</th>\n",
       "      <th>H1DA1</th>\n",
       "      <th>H1DA2</th>\n",
       "      <th>H1DA4</th>\n",
       "      <th>H1DA5</th>\n",
       "      <th>H1DA6</th>\n",
       "      <th>H1DA7</th>\n",
       "      <th>H1ED1</th>\n",
       "      <th>H1ED2</th>\n",
       "      <th>SKIP</th>\n",
       "      <th>SKIPSCH</th>\n",
       "    </tr>\n",
       "  </thead>\n",
       "  <tbody>\n",
       "    <tr>\n",
       "      <th>0</th>\n",
       "      <td>57100270</td>\n",
       "      <td>1.0</td>\n",
       "      <td>2.0</td>\n",
       "      <td>3.0</td>\n",
       "      <td>0.0</td>\n",
       "      <td>0.0</td>\n",
       "      <td>3.0</td>\n",
       "      <td>1.0</td>\n",
       "      <td>NaN</td>\n",
       "      <td>NaN</td>\n",
       "      <td>NaN</td>\n",
       "      <td>NaN</td>\n",
       "    </tr>\n",
       "    <tr>\n",
       "      <th>1</th>\n",
       "      <td>57101310</td>\n",
       "      <td>2.0</td>\n",
       "      <td>1.0</td>\n",
       "      <td>0.0</td>\n",
       "      <td>0.0</td>\n",
       "      <td>0.0</td>\n",
       "      <td>0.0</td>\n",
       "      <td>3.0</td>\n",
       "      <td>1.0</td>\n",
       "      <td>15.0</td>\n",
       "      <td>3.0</td>\n",
       "      <td>4.0</td>\n",
       "    </tr>\n",
       "    <tr>\n",
       "      <th>2</th>\n",
       "      <td>57103171</td>\n",
       "      <td>1.0</td>\n",
       "      <td>1.0</td>\n",
       "      <td>1.0</td>\n",
       "      <td>0.0</td>\n",
       "      <td>2.0</td>\n",
       "      <td>0.0</td>\n",
       "      <td>1.0</td>\n",
       "      <td>2.0</td>\n",
       "      <td>0.0</td>\n",
       "      <td>0.0</td>\n",
       "      <td>2.0</td>\n",
       "    </tr>\n",
       "    <tr>\n",
       "      <th>3</th>\n",
       "      <td>57103869</td>\n",
       "      <td>1.0</td>\n",
       "      <td>2.0</td>\n",
       "      <td>1.0</td>\n",
       "      <td>0.0</td>\n",
       "      <td>3.0</td>\n",
       "      <td>2.0</td>\n",
       "      <td>2.0</td>\n",
       "      <td>3.0</td>\n",
       "      <td>3.0</td>\n",
       "      <td>2.0</td>\n",
       "      <td>5.0</td>\n",
       "    </tr>\n",
       "    <tr>\n",
       "      <th>4</th>\n",
       "      <td>57104553</td>\n",
       "      <td>1.0</td>\n",
       "      <td>2.0</td>\n",
       "      <td>1.0</td>\n",
       "      <td>0.0</td>\n",
       "      <td>0.0</td>\n",
       "      <td>0.0</td>\n",
       "      <td>1.0</td>\n",
       "      <td>3.0</td>\n",
       "      <td>0.0</td>\n",
       "      <td>0.0</td>\n",
       "      <td>3.0</td>\n",
       "    </tr>\n",
       "    <tr>\n",
       "      <th>5</th>\n",
       "      <td>57104649</td>\n",
       "      <td>1.0</td>\n",
       "      <td>1.0</td>\n",
       "      <td>0.0</td>\n",
       "      <td>0.0</td>\n",
       "      <td>1.0</td>\n",
       "      <td>0.0</td>\n",
       "      <td>1.0</td>\n",
       "      <td>2.0</td>\n",
       "      <td>0.0</td>\n",
       "      <td>0.0</td>\n",
       "      <td>2.0</td>\n",
       "    </tr>\n",
       "    <tr>\n",
       "      <th>6</th>\n",
       "      <td>57104676</td>\n",
       "      <td>0.0</td>\n",
       "      <td>3.0</td>\n",
       "      <td>0.0</td>\n",
       "      <td>1.0</td>\n",
       "      <td>3.0</td>\n",
       "      <td>3.0</td>\n",
       "      <td>3.0</td>\n",
       "      <td>1.0</td>\n",
       "      <td>0.0</td>\n",
       "      <td>0.0</td>\n",
       "      <td>1.0</td>\n",
       "    </tr>\n",
       "    <tr>\n",
       "      <th>7</th>\n",
       "      <td>57109625</td>\n",
       "      <td>1.0</td>\n",
       "      <td>1.0</td>\n",
       "      <td>0.0</td>\n",
       "      <td>1.0</td>\n",
       "      <td>2.0</td>\n",
       "      <td>0.0</td>\n",
       "      <td>3.0</td>\n",
       "      <td>3.0</td>\n",
       "      <td>4.0</td>\n",
       "      <td>2.0</td>\n",
       "      <td>5.0</td>\n",
       "    </tr>\n",
       "    <tr>\n",
       "      <th>8</th>\n",
       "      <td>57110897</td>\n",
       "      <td>1.0</td>\n",
       "      <td>2.0</td>\n",
       "      <td>2.0</td>\n",
       "      <td>3.0</td>\n",
       "      <td>2.0</td>\n",
       "      <td>2.0</td>\n",
       "      <td>3.0</td>\n",
       "      <td>2.0</td>\n",
       "      <td>10.0</td>\n",
       "      <td>2.0</td>\n",
       "      <td>4.0</td>\n",
       "    </tr>\n",
       "    <tr>\n",
       "      <th>9</th>\n",
       "      <td>57111071</td>\n",
       "      <td>2.0</td>\n",
       "      <td>1.0</td>\n",
       "      <td>1.0</td>\n",
       "      <td>3.0</td>\n",
       "      <td>2.0</td>\n",
       "      <td>0.0</td>\n",
       "      <td>2.0</td>\n",
       "      <td>2.0</td>\n",
       "      <td>0.0</td>\n",
       "      <td>0.0</td>\n",
       "      <td>2.0</td>\n",
       "    </tr>\n",
       "  </tbody>\n",
       "</table>\n",
       "</div>"
      ],
      "text/plain": [
       "        AID  H1GH2  H1DA1  H1DA2  H1DA4  H1DA5  H1DA6  H1DA7  H1ED1  H1ED2  \\\n",
       "0  57100270    1.0    2.0    3.0    0.0    0.0    3.0    1.0    NaN    NaN   \n",
       "1  57101310    2.0    1.0    0.0    0.0    0.0    0.0    3.0    1.0   15.0   \n",
       "2  57103171    1.0    1.0    1.0    0.0    2.0    0.0    1.0    2.0    0.0   \n",
       "3  57103869    1.0    2.0    1.0    0.0    3.0    2.0    2.0    3.0    3.0   \n",
       "4  57104553    1.0    2.0    1.0    0.0    0.0    0.0    1.0    3.0    0.0   \n",
       "5  57104649    1.0    1.0    0.0    0.0    1.0    0.0    1.0    2.0    0.0   \n",
       "6  57104676    0.0    3.0    0.0    1.0    3.0    3.0    3.0    1.0    0.0   \n",
       "7  57109625    1.0    1.0    0.0    1.0    2.0    0.0    3.0    3.0    4.0   \n",
       "8  57110897    1.0    2.0    2.0    3.0    2.0    2.0    3.0    2.0   10.0   \n",
       "9  57111071    2.0    1.0    1.0    3.0    2.0    0.0    2.0    2.0    0.0   \n",
       "\n",
       "   SKIP  SKIPSCH  \n",
       "0   NaN      NaN  \n",
       "1   3.0      4.0  \n",
       "2   0.0      2.0  \n",
       "3   2.0      5.0  \n",
       "4   0.0      3.0  \n",
       "5   0.0      2.0  \n",
       "6   0.0      1.0  \n",
       "7   2.0      5.0  \n",
       "8   2.0      4.0  \n",
       "9   0.0      2.0  "
      ]
     },
     "execution_count": 63,
     "metadata": {},
     "output_type": "execute_result"
    }
   ],
   "source": [
    "sub['SKIPSCH'] = sub.apply(lambda row: skip_sec(row), axis=1)\n",
    "sub.head(10)"
   ]
  },
  {
   "cell_type": "markdown",
   "metadata": {},
   "source": [
    "# Use pandas.qcut, pandas.cut"
   ]
  },
  {
   "cell_type": "code",
   "execution_count": 70,
   "metadata": {},
   "outputs": [
    {
     "data": {
      "text/plain": [
       "TEST\n",
       "25%     1756\n",
       "50%     1681\n",
       "75%     1488\n",
       "100%    1578\n",
       "dtype: int64"
      ]
     },
     "execution_count": 70,
     "metadata": {},
     "output_type": "execute_result"
    }
   ],
   "source": [
    "data['TEST'] = pd.qcut(data.H1GI3, 4, labels=['25%', '50%', '75%', '100%'])\n",
    "ctt = data.groupby('TEST').size()\n",
    "ctt"
   ]
  },
  {
   "cell_type": "code",
   "execution_count": 73,
   "metadata": {},
   "outputs": [
    {
     "data": {
      "text/plain": [
       "TEST1\n",
       "(5, 10]     1329\n",
       "(10, 14]    1956\n",
       "(14, 19]    1054\n",
       "dtype: int64"
      ]
     },
     "execution_count": 73,
     "metadata": {},
     "output_type": "execute_result"
    }
   ],
   "source": [
    "data['TEST1'] = pd.cut(data.H1GI3, [5, 10, 14, 19])\n",
    "ctt1 = data.groupby('TEST1').size()\n",
    "ctt1"
   ]
  },
  {
   "cell_type": "code",
   "execution_count": 74,
   "metadata": {},
   "outputs": [
    {
     "name": "stdout",
     "output_type": "stream",
     "text": [
      "H1GI3     0.0   1.0   2.0   3.0   4.0   5.0   6.0   7.0   8.0   9.0   ...   \\\n",
      "TEST1                                                                 ...    \n",
      "(5, 10]      0     0     0     0     0     0   224   241   269   240  ...    \n",
      "(10, 14]     0     0     0     0     0     0     0     0     0     0  ...    \n",
      "(14, 19]     0     0     0     0     0     0     0     0     0     0  ...    \n",
      "\n",
      "H1GI3     12.0  13.0  14.0  15.0  16.0  17.0  18.0  19.0  96.0  98.0  \n",
      "TEST1                                                                 \n",
      "(5, 10]      0     0     0     0     0     0     0     0     0     0  \n",
      "(10, 14]   549   535   468     0     0     0     0     0     0     0  \n",
      "(14, 19]     0     0     0   417   312   199   114    12     0     0  \n",
      "\n",
      "[3 rows x 22 columns]\n"
     ]
    }
   ],
   "source": [
    "print(pd.crosstab(data['TEST1'], data['H1GI3']))"
   ]
  },
  {
   "cell_type": "code",
   "execution_count": 76,
   "metadata": {},
   "outputs": [
    {
     "data": {
      "text/plain": [
       "(5, 10]     1329\n",
       "(10, 14]    1956\n",
       "(14, 19]    1054\n",
       "Name: TEST1, dtype: int64"
      ]
     },
     "execution_count": 76,
     "metadata": {},
     "output_type": "execute_result"
    }
   ],
   "source": [
    "ct3 = data['TEST1'].value_counts(sort=False)\n",
    "ct3"
   ]
  },
  {
   "cell_type": "code",
   "execution_count": 77,
   "metadata": {},
   "outputs": [
    {
     "data": {
      "text/plain": [
       "(5, 10]     0.306292\n",
       "(10, 14]    0.450795\n",
       "(14, 19]    0.242913\n",
       "Name: TEST1, dtype: float64"
      ]
     },
     "execution_count": 77,
     "metadata": {},
     "output_type": "execute_result"
    }
   ],
   "source": [
    "pt3 = data['TEST1'].value_counts(sort=False, normalize=True)\n",
    "pt3"
   ]
  },
  {
   "cell_type": "code",
   "execution_count": null,
   "metadata": {},
   "outputs": [],
   "source": []
  },
  {
   "cell_type": "code",
   "execution_count": null,
   "metadata": {},
   "outputs": [],
   "source": []
  }
 ],
 "metadata": {
  "kernelspec": {
   "display_name": "Python 3",
   "language": "python",
   "name": "python3"
  },
  "language_info": {
   "codemirror_mode": {
    "name": "ipython",
    "version": 3
   },
   "file_extension": ".py",
   "mimetype": "text/x-python",
   "name": "python",
   "nbconvert_exporter": "python",
   "pygments_lexer": "ipython3",
   "version": "3.5.4"
  }
 },
 "nbformat": 4,
 "nbformat_minor": 2
}
