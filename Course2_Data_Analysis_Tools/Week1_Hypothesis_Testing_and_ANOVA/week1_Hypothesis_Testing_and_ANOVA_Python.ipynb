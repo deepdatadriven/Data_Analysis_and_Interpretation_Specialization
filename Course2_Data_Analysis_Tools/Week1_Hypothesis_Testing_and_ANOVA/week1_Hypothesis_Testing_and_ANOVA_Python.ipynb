{
 "cells": [
  {
   "attachments": {},
   "cell_type": "markdown",
   "metadata": {},
   "source": [
    "# The tool of  exploratory data analysis: descriptive statistics\n",
    "1. Examination of frenquency distribution:<br>\n",
    "c1 = df['column'].value_counts(sort=False, normalize=True, dropna=False)<br>\n",
    "c1 = df['column'].value_counts(sort=False)\n",
    "2. Graphical representations of variables of interest<br>\n",
    "ax=sns.countplot(x='SKIPCAT', data=sub)<br>\n",
    "ax1=sns.distplot(sub['SKIPTOTAL'].dropna(), kde=False)<br>\n",
    "ax2=sns.factorplot(x=\"H1GH2\", y=\"SKIPCAT\", data=sub, kind=\"bar\", ci=None)<br>\n",
    "ax3=sns.regplot(x=\"H1DA10\", y=\"SKIPTOTAL\", fit_reg=False, data=sub)<br>\n",
    "3. Calculations of center and spread<br>\n",
    "mean, median, mode<br>\n",
    "sub['SKIPTOTAL'].describe()<br>\n",
    "sub['SKIPTOTAL'].mean()<br>\n",
    "sub['SKIPTOTAL'].std()<br>\n",
    "sub['SKIPTOTAL'].median()<br>\n",
    "sub['SKIPTOTAL'].mode()<br>\n",
    "sub['SKIPTOTAL'].min()<br>\n",
    "sub['SKIPTOTAL'].max()<br>\n",
    "4. OLS:<br>\n",
    "import statsmodels.formula.api as smf<br>\n",
    "model1 = smf.ols(formula = 'SKIPTOTAL ~ C(HEADCAT)', data = sub)<br>\n",
    "result1 = model1.fit()<br>\n",
    "result1.summary()<br>\n",
    "5. Post Hoc Test: Tukey's<br>\n",
    "import statsmodels.stats.multicomp as multi<br>\n",
    "mc = multi.MultiComparison(sub1['SKIPTOTAL'], sub1['H1GH2']).tukeyhsd()<br>"
   ]
  },
  {
   "cell_type": "code",
   "execution_count": 1,
   "metadata": {},
   "outputs": [],
   "source": [
    "import numpy as np\n",
    "import pandas as pd\n",
    "\n",
    "## load data\n",
    "data = pd.read_csv(\"E:/Jupyter/DATA _ANALYST/Data_Management_and_Visualization/data/addhealth.csv\", low_memory=False)\n",
    "pd.set_option(\"display.float_format\", lambda x: '%f'%x)\n",
    "## convert column names to upper case\n",
    "data.columns = map(str.upper, data.columns)"
   ]
  },
  {
   "cell_type": "code",
   "execution_count": 2,
   "metadata": {},
   "outputs": [],
   "source": [
    "## remove the limit and allows all rows and columns to be displayed\n",
    "pd.set_option('display.max_columns',None)"
   ]
  },
  {
   "cell_type": "code",
   "execution_count": 3,
   "metadata": {},
   "outputs": [
    {
     "data": {
      "text/html": [
       "<div>\n",
       "<style scoped>\n",
       "    .dataframe tbody tr th:only-of-type {\n",
       "        vertical-align: middle;\n",
       "    }\n",
       "\n",
       "    .dataframe tbody tr th {\n",
       "        vertical-align: top;\n",
       "    }\n",
       "\n",
       "    .dataframe thead th {\n",
       "        text-align: right;\n",
       "    }\n",
       "</style>\n",
       "<table border=\"1\" class=\"dataframe\">\n",
       "  <thead>\n",
       "    <tr style=\"text-align: right;\">\n",
       "      <th></th>\n",
       "      <th>AID</th>\n",
       "      <th>H1GH2</th>\n",
       "      <th>H1ED1</th>\n",
       "      <th>H1ED2</th>\n",
       "      <th>H1GI1Y</th>\n",
       "    </tr>\n",
       "  </thead>\n",
       "  <tbody>\n",
       "    <tr>\n",
       "      <th>5</th>\n",
       "      <td>57104649</td>\n",
       "      <td>1</td>\n",
       "      <td>2</td>\n",
       "      <td>0</td>\n",
       "      <td>81</td>\n",
       "    </tr>\n",
       "    <tr>\n",
       "      <th>6</th>\n",
       "      <td>57104676</td>\n",
       "      <td>0</td>\n",
       "      <td>1</td>\n",
       "      <td>0</td>\n",
       "      <td>83</td>\n",
       "    </tr>\n",
       "    <tr>\n",
       "      <th>7</th>\n",
       "      <td>57109625</td>\n",
       "      <td>1</td>\n",
       "      <td>3</td>\n",
       "      <td>4</td>\n",
       "      <td>81</td>\n",
       "    </tr>\n",
       "    <tr>\n",
       "      <th>8</th>\n",
       "      <td>57110897</td>\n",
       "      <td>1</td>\n",
       "      <td>2</td>\n",
       "      <td>10</td>\n",
       "      <td>81</td>\n",
       "    </tr>\n",
       "    <tr>\n",
       "      <th>9</th>\n",
       "      <td>57111071</td>\n",
       "      <td>2</td>\n",
       "      <td>2</td>\n",
       "      <td>0</td>\n",
       "      <td>81</td>\n",
       "    </tr>\n",
       "  </tbody>\n",
       "</table>\n",
       "</div>"
      ],
      "text/plain": [
       "        AID  H1GH2  H1ED1 H1ED2  H1GI1Y\n",
       "5  57104649      1      2     0      81\n",
       "6  57104676      0      1     0      83\n",
       "7  57109625      1      3     4      81\n",
       "8  57110897      1      2    10      81\n",
       "9  57111071      2      2     0      81"
      ]
     },
     "execution_count": 3,
     "metadata": {},
     "output_type": "execute_result"
    }
   ],
   "source": [
    "## only keep the variables that will be analysis\n",
    "sub1 = data[['AID', 'H1GH2', 'H1ED1', 'H1ED2', 'H1GI1Y']]\n",
    "sub2 = sub1[(sub1['H1GI1Y'] >= 80)]\n",
    "sub = sub2.copy()\n",
    "sub.head()"
   ]
  },
  {
   "cell_type": "code",
   "execution_count": 4,
   "metadata": {},
   "outputs": [],
   "source": [
    "## convert object to numeric\n",
    "sub['H1GH2'] = pd.to_numeric(sub['H1GH2'], errors='coerce')\n",
    "sub['H1ED1'] = pd.to_numeric(sub['H1ED1'], errors='coerce')\n",
    "sub['H1ED2'] = pd.to_numeric(sub['H1ED2'], errors='coerce')"
   ]
  },
  {
   "cell_type": "code",
   "execution_count": 5,
   "metadata": {},
   "outputs": [],
   "source": [
    "## coding out missing data\n",
    "sub['H1GH2'] = sub['H1GH2'].replace([6,8], np.nan)\n",
    "sub['H1ED1'] = sub['H1ED1'].replace([6, 7, 8, 9], np.nan)\n",
    "sub['H1ED2'] = sub['H1ED2'].replace([996, 997, 998], np.nan)"
   ]
  },
  {
   "cell_type": "code",
   "execution_count": 6,
   "metadata": {},
   "outputs": [
    {
     "data": {
      "text/plain": [
       "2.000000    1156\n",
       "1.000000     805\n",
       "3.000000     301\n",
       "0.000000     287\n",
       "nan           25\n",
       "Name: H1ED1, dtype: int64"
      ]
     },
     "execution_count": 6,
     "metadata": {},
     "output_type": "execute_result"
    }
   ],
   "source": [
    "sub['H1ED1'].value_counts(dropna=False)"
   ]
  },
  {
   "cell_type": "code",
   "execution_count": 7,
   "metadata": {},
   "outputs": [],
   "source": [
    "## create secondary variables\n",
    "def times_skip(row):\n",
    "    if row['H1ED1']==0:\n",
    "        return 0\n",
    "    elif row['H1ED1']==1:\n",
    "        return 2\n",
    "    elif row['H1ED1']==2:\n",
    "        return 7\n",
    "    elif row['H1ED1']==3:\n",
    "        return 45\n",
    "    else:\n",
    "        return np.nan\n",
    "    \n",
    "sub['SKIPFREQ'] = sub.apply(lambda row: times_skip(row), axis=1)"
   ]
  },
  {
   "cell_type": "code",
   "execution_count": 8,
   "metadata": {},
   "outputs": [],
   "source": [
    "def total_skip(row):\n",
    "    if row['SKIPFREQ'] != np.nan and row['H1ED2'] != np.nan:\n",
    "        return row['SKIPFREQ']+row['H1ED2']\n",
    "    elif row['SKIPFREQ'] == np.nan and row['H1ED2'] != np.nan:\n",
    "        return row['H1ED2']\n",
    "    elif row['SKIPFREQ'] != np.nan and row['H1ED2'] == np.nan:\n",
    "        return row['SKIPFREQ']\n",
    "    else:\n",
    "        return np.nan\n",
    "    \n",
    "sub['SKIPTOTAL'] = sub.apply(lambda row: total_skip(row), axis=1)"
   ]
  },
  {
   "cell_type": "code",
   "execution_count": 9,
   "metadata": {},
   "outputs": [],
   "source": [
    "## create secondary variables\n",
    "def head_level(row):\n",
    "    if row['H1GH2']==0:\n",
    "        return 0\n",
    "    elif row['H1GH2']==1:\n",
    "        return 0\n",
    "    elif row['H1GH2']==2:\n",
    "        return 0\n",
    "    elif row['H1GH2']==3:\n",
    "        return 1\n",
    "    elif row['H1GH2']==4:\n",
    "        return 1\n",
    "    else:\n",
    "        return np.nan\n",
    "    \n",
    "sub['HEADCAT'] = sub.apply(lambda row: head_level(row), axis=1)"
   ]
  },
  {
   "cell_type": "code",
   "execution_count": 10,
   "metadata": {},
   "outputs": [
    {
     "data": {
      "text/plain": [
       "0.000000    2402\n",
       "1.000000     168\n",
       "Name: HEADCAT, dtype: int64"
      ]
     },
     "execution_count": 10,
     "metadata": {},
     "output_type": "execute_result"
    }
   ],
   "source": [
    "sub['HEADCAT'].value_counts()"
   ]
  },
  {
   "cell_type": "markdown",
   "metadata": {},
   "source": [
    "# Ordinary Lease Squares: OLS"
   ]
  },
  {
   "cell_type": "markdown",
   "metadata": {},
   "source": [
    "### Explanatory variables with two levels"
   ]
  },
  {
   "cell_type": "code",
   "execution_count": 33,
   "metadata": {},
   "outputs": [
    {
     "data": {
      "text/html": [
       "<table class=\"simpletable\">\n",
       "<caption>OLS Regression Results</caption>\n",
       "<tr>\n",
       "  <th>Dep. Variable:</th>        <td>SKIPTOTAL</td>    <th>  R-squared:         </th> <td>   0.006</td> \n",
       "</tr>\n",
       "<tr>\n",
       "  <th>Model:</th>                   <td>OLS</td>       <th>  Adj. R-squared:    </th> <td>   0.005</td> \n",
       "</tr>\n",
       "<tr>\n",
       "  <th>Method:</th>             <td>Least Squares</td>  <th>  F-statistic:       </th> <td>   14.77</td> \n",
       "</tr>\n",
       "<tr>\n",
       "  <th>Date:</th>             <td>Thu, 05 Apr 2018</td> <th>  Prob (F-statistic):</th> <td>0.000124</td> \n",
       "</tr>\n",
       "<tr>\n",
       "  <th>Time:</th>                 <td>16:10:17</td>     <th>  Log-Likelihood:    </th> <td> -10367.</td> \n",
       "</tr>\n",
       "<tr>\n",
       "  <th>No. Observations:</th>      <td>  2545</td>      <th>  AIC:               </th> <td>2.074e+04</td>\n",
       "</tr>\n",
       "<tr>\n",
       "  <th>Df Residuals:</th>          <td>  2543</td>      <th>  BIC:               </th> <td>2.075e+04</td>\n",
       "</tr>\n",
       "<tr>\n",
       "  <th>Df Model:</th>              <td>     1</td>      <th>                     </th>     <td> </td>    \n",
       "</tr>\n",
       "<tr>\n",
       "  <th>Covariance Type:</th>      <td>nonrobust</td>    <th>                     </th>     <td> </td>    \n",
       "</tr>\n",
       "</table>\n",
       "<table class=\"simpletable\">\n",
       "<tr>\n",
       "          <td></td>             <th>coef</th>     <th>std err</th>      <th>t</th>      <th>P>|t|</th>  <th>[0.025</th>    <th>0.975]</th>  \n",
       "</tr>\n",
       "<tr>\n",
       "  <th>Intercept</th>         <td>    9.5628</td> <td>    0.291</td> <td>   32.811</td> <td> 0.000</td> <td>    8.991</td> <td>   10.134</td>\n",
       "</tr>\n",
       "<tr>\n",
       "  <th>C(HEADCAT)[T.1.0]</th> <td>    4.4128</td> <td>    1.148</td> <td>    3.844</td> <td> 0.000</td> <td>    2.161</td> <td>    6.664</td>\n",
       "</tr>\n",
       "</table>\n",
       "<table class=\"simpletable\">\n",
       "<tr>\n",
       "  <th>Omnibus:</th>       <td>1147.631</td> <th>  Durbin-Watson:     </th> <td>   2.003</td>\n",
       "</tr>\n",
       "<tr>\n",
       "  <th>Prob(Omnibus):</th>  <td> 0.000</td>  <th>  Jarque-Bera (JB):  </th> <td>4495.006</td>\n",
       "</tr>\n",
       "<tr>\n",
       "  <th>Skew:</th>           <td> 2.286</td>  <th>  Prob(JB):          </th> <td>    0.00</td>\n",
       "</tr>\n",
       "<tr>\n",
       "  <th>Kurtosis:</th>       <td> 7.636</td>  <th>  Cond. No.          </th> <td>    4.09</td>\n",
       "</tr>\n",
       "</table>"
      ],
      "text/plain": [
       "<class 'statsmodels.iolib.summary.Summary'>\n",
       "\"\"\"\n",
       "                            OLS Regression Results                            \n",
       "==============================================================================\n",
       "Dep. Variable:              SKIPTOTAL   R-squared:                       0.006\n",
       "Model:                            OLS   Adj. R-squared:                  0.005\n",
       "Method:                 Least Squares   F-statistic:                     14.77\n",
       "Date:                Thu, 05 Apr 2018   Prob (F-statistic):           0.000124\n",
       "Time:                        16:10:17   Log-Likelihood:                -10367.\n",
       "No. Observations:                2545   AIC:                         2.074e+04\n",
       "Df Residuals:                    2543   BIC:                         2.075e+04\n",
       "Df Model:                           1                                         \n",
       "Covariance Type:            nonrobust                                         \n",
       "=====================================================================================\n",
       "                        coef    std err          t      P>|t|      [0.025      0.975]\n",
       "-------------------------------------------------------------------------------------\n",
       "Intercept             9.5628      0.291     32.811      0.000       8.991      10.134\n",
       "C(HEADCAT)[T.1.0]     4.4128      1.148      3.844      0.000       2.161       6.664\n",
       "==============================================================================\n",
       "Omnibus:                     1147.631   Durbin-Watson:                   2.003\n",
       "Prob(Omnibus):                  0.000   Jarque-Bera (JB):             4495.006\n",
       "Skew:                           2.286   Prob(JB):                         0.00\n",
       "Kurtosis:                       7.636   Cond. No.                         4.09\n",
       "==============================================================================\n",
       "\n",
       "Warnings:\n",
       "[1] Standard Errors assume that the covariance matrix of the errors is correctly specified.\n",
       "\"\"\""
      ]
     },
     "execution_count": 33,
     "metadata": {},
     "output_type": "execute_result"
    }
   ],
   "source": [
    "## explainatory: HEADCAT -> response: SKIPTOTAL\n",
    "import statsmodels.formula.api as smf\n",
    "\n",
    "model1 = smf.ols(formula = 'SKIPTOTAL ~ C(HEADCAT)', data = sub)\n",
    "result1 = model1.fit()\n",
    "result1.summary()"
   ]
  },
  {
   "cell_type": "code",
   "execution_count": 34,
   "metadata": {},
   "outputs": [
    {
     "data": {
      "text/html": [
       "<div>\n",
       "<style scoped>\n",
       "    .dataframe tbody tr th:only-of-type {\n",
       "        vertical-align: middle;\n",
       "    }\n",
       "\n",
       "    .dataframe tbody tr th {\n",
       "        vertical-align: top;\n",
       "    }\n",
       "\n",
       "    .dataframe thead th {\n",
       "        text-align: right;\n",
       "    }\n",
       "</style>\n",
       "<table border=\"1\" class=\"dataframe\">\n",
       "  <thead>\n",
       "    <tr style=\"text-align: right;\">\n",
       "      <th></th>\n",
       "      <th>SKIPTOTAL</th>\n",
       "    </tr>\n",
       "    <tr>\n",
       "      <th>HEADCAT</th>\n",
       "      <th></th>\n",
       "    </tr>\n",
       "  </thead>\n",
       "  <tbody>\n",
       "    <tr>\n",
       "      <th>0.000000</th>\n",
       "      <td>9.562789</td>\n",
       "    </tr>\n",
       "    <tr>\n",
       "      <th>1.000000</th>\n",
       "      <td>13.975610</td>\n",
       "    </tr>\n",
       "  </tbody>\n",
       "</table>\n",
       "</div>"
      ],
      "text/plain": [
       "          SKIPTOTAL\n",
       "HEADCAT            \n",
       "0.000000   9.562789\n",
       "1.000000  13.975610"
      ]
     },
     "execution_count": 34,
     "metadata": {},
     "output_type": "execute_result"
    }
   ],
   "source": [
    "## generated mean values based on the explanatory variable\n",
    "sub2 = sub[['HEADCAT', 'SKIPTOTAL']].dropna()\n",
    "sub2.groupby('HEADCAT').mean()"
   ]
  },
  {
   "cell_type": "markdown",
   "metadata": {},
   "source": [
    "### Explanatory variables with more than two levels\n",
    "**Here we choose the *Tukey's Honestly Significant Difference Test* as my Post Hoc Test**"
   ]
  },
  {
   "cell_type": "code",
   "execution_count": 11,
   "metadata": {},
   "outputs": [],
   "source": [
    "import statsmodels.formula.api as smf\n",
    "\n",
    "# create a new sub dataframe\n",
    "sub1 = sub[['H1GH2', 'SKIPTOTAL']].dropna()"
   ]
  },
  {
   "cell_type": "code",
   "execution_count": 12,
   "metadata": {},
   "outputs": [
    {
     "data": {
      "text/html": [
       "<table class=\"simpletable\">\n",
       "<caption>OLS Regression Results</caption>\n",
       "<tr>\n",
       "  <th>Dep. Variable:</th>        <td>SKIPTOTAL</td>    <th>  R-squared:         </th> <td>   0.015</td> \n",
       "</tr>\n",
       "<tr>\n",
       "  <th>Model:</th>                   <td>OLS</td>       <th>  Adj. R-squared:    </th> <td>   0.013</td> \n",
       "</tr>\n",
       "<tr>\n",
       "  <th>Method:</th>             <td>Least Squares</td>  <th>  F-statistic:       </th> <td>   9.483</td> \n",
       "</tr>\n",
       "<tr>\n",
       "  <th>Date:</th>             <td>Thu, 05 Apr 2018</td> <th>  Prob (F-statistic):</th> <td>1.31e-07</td> \n",
       "</tr>\n",
       "<tr>\n",
       "  <th>Time:</th>                 <td>16:21:17</td>     <th>  Log-Likelihood:    </th> <td> -10355.</td> \n",
       "</tr>\n",
       "<tr>\n",
       "  <th>No. Observations:</th>      <td>  2545</td>      <th>  AIC:               </th> <td>2.072e+04</td>\n",
       "</tr>\n",
       "<tr>\n",
       "  <th>Df Residuals:</th>          <td>  2540</td>      <th>  BIC:               </th> <td>2.075e+04</td>\n",
       "</tr>\n",
       "<tr>\n",
       "  <th>Df Model:</th>              <td>     4</td>      <th>                     </th>     <td> </td>    \n",
       "</tr>\n",
       "<tr>\n",
       "  <th>Covariance Type:</th>      <td>nonrobust</td>    <th>                     </th>     <td> </td>    \n",
       "</tr>\n",
       "</table>\n",
       "<table class=\"simpletable\">\n",
       "<tr>\n",
       "         <td></td>            <th>coef</th>     <th>std err</th>      <th>t</th>      <th>P>|t|</th>  <th>[0.025</th>    <th>0.975]</th>  \n",
       "</tr>\n",
       "<tr>\n",
       "  <th>Intercept</th>       <td>    7.3511</td> <td>    0.944</td> <td>    7.784</td> <td> 0.000</td> <td>    5.499</td> <td>    9.203</td>\n",
       "</tr>\n",
       "<tr>\n",
       "  <th>C(H1GH2)[T.1.0]</th> <td>    1.7289</td> <td>    1.009</td> <td>    1.714</td> <td> 0.087</td> <td>   -0.249</td> <td>    3.707</td>\n",
       "</tr>\n",
       "<tr>\n",
       "  <th>C(H1GH2)[T.2.0]</th> <td>    4.4909</td> <td>    1.119</td> <td>    4.013</td> <td> 0.000</td> <td>    2.297</td> <td>    6.685</td>\n",
       "</tr>\n",
       "<tr>\n",
       "  <th>C(H1GH2)[T.3.0]</th> <td>    6.1060</td> <td>    1.525</td> <td>    4.004</td> <td> 0.000</td> <td>    3.116</td> <td>    9.096</td>\n",
       "</tr>\n",
       "<tr>\n",
       "  <th>C(H1GH2)[T.4.0]</th> <td>    9.6489</td> <td>    3.042</td> <td>    3.172</td> <td> 0.002</td> <td>    3.684</td> <td>   15.614</td>\n",
       "</tr>\n",
       "</table>\n",
       "<table class=\"simpletable\">\n",
       "<tr>\n",
       "  <th>Omnibus:</th>       <td>1135.655</td> <th>  Durbin-Watson:     </th> <td>   2.008</td>\n",
       "</tr>\n",
       "<tr>\n",
       "  <th>Prob(Omnibus):</th>  <td> 0.000</td>  <th>  Jarque-Bera (JB):  </th> <td>4389.720</td>\n",
       "</tr>\n",
       "<tr>\n",
       "  <th>Skew:</th>           <td> 2.264</td>  <th>  Prob(JB):          </th> <td>    0.00</td>\n",
       "</tr>\n",
       "<tr>\n",
       "  <th>Kurtosis:</th>       <td> 7.571</td>  <th>  Cond. No.          </th> <td>    13.6</td>\n",
       "</tr>\n",
       "</table>"
      ],
      "text/plain": [
       "<class 'statsmodels.iolib.summary.Summary'>\n",
       "\"\"\"\n",
       "                            OLS Regression Results                            \n",
       "==============================================================================\n",
       "Dep. Variable:              SKIPTOTAL   R-squared:                       0.015\n",
       "Model:                            OLS   Adj. R-squared:                  0.013\n",
       "Method:                 Least Squares   F-statistic:                     9.483\n",
       "Date:                Thu, 05 Apr 2018   Prob (F-statistic):           1.31e-07\n",
       "Time:                        16:21:17   Log-Likelihood:                -10355.\n",
       "No. Observations:                2545   AIC:                         2.072e+04\n",
       "Df Residuals:                    2540   BIC:                         2.075e+04\n",
       "Df Model:                           4                                         \n",
       "Covariance Type:            nonrobust                                         \n",
       "===================================================================================\n",
       "                      coef    std err          t      P>|t|      [0.025      0.975]\n",
       "-----------------------------------------------------------------------------------\n",
       "Intercept           7.3511      0.944      7.784      0.000       5.499       9.203\n",
       "C(H1GH2)[T.1.0]     1.7289      1.009      1.714      0.087      -0.249       3.707\n",
       "C(H1GH2)[T.2.0]     4.4909      1.119      4.013      0.000       2.297       6.685\n",
       "C(H1GH2)[T.3.0]     6.1060      1.525      4.004      0.000       3.116       9.096\n",
       "C(H1GH2)[T.4.0]     9.6489      3.042      3.172      0.002       3.684      15.614\n",
       "==============================================================================\n",
       "Omnibus:                     1135.655   Durbin-Watson:                   2.008\n",
       "Prob(Omnibus):                  0.000   Jarque-Bera (JB):             4389.720\n",
       "Skew:                           2.264   Prob(JB):                         0.00\n",
       "Kurtosis:                       7.571   Cond. No.                         13.6\n",
       "==============================================================================\n",
       "\n",
       "Warnings:\n",
       "[1] Standard Errors assume that the covariance matrix of the errors is correctly specified.\n",
       "\"\"\""
      ]
     },
     "execution_count": 12,
     "metadata": {},
     "output_type": "execute_result"
    }
   ],
   "source": [
    "## explainatory: H1GH2 -> response: SKIPTOTAL\n",
    "## ~ tilde\n",
    "model2 = smf.ols(formula = 'SKIPTOTAL ~ C(H1GH2)', data = sub1).fit()\n",
    "model2.summary()"
   ]
  },
  {
   "cell_type": "code",
   "execution_count": 13,
   "metadata": {},
   "outputs": [
    {
     "data": {
      "text/html": [
       "<div>\n",
       "<style scoped>\n",
       "    .dataframe tbody tr th:only-of-type {\n",
       "        vertical-align: middle;\n",
       "    }\n",
       "\n",
       "    .dataframe tbody tr th {\n",
       "        vertical-align: top;\n",
       "    }\n",
       "\n",
       "    .dataframe thead th {\n",
       "        text-align: right;\n",
       "    }\n",
       "</style>\n",
       "<table border=\"1\" class=\"dataframe\">\n",
       "  <thead>\n",
       "    <tr style=\"text-align: right;\">\n",
       "      <th></th>\n",
       "      <th>SKIPTOTAL</th>\n",
       "    </tr>\n",
       "    <tr>\n",
       "      <th>H1GH2</th>\n",
       "      <th></th>\n",
       "    </tr>\n",
       "  </thead>\n",
       "  <tbody>\n",
       "    <tr>\n",
       "      <th>0.000000</th>\n",
       "      <td>7.351111</td>\n",
       "    </tr>\n",
       "    <tr>\n",
       "      <th>1.000000</th>\n",
       "      <td>9.080050</td>\n",
       "    </tr>\n",
       "    <tr>\n",
       "      <th>2.000000</th>\n",
       "      <td>11.842011</td>\n",
       "    </tr>\n",
       "    <tr>\n",
       "      <th>3.000000</th>\n",
       "      <td>13.457143</td>\n",
       "    </tr>\n",
       "    <tr>\n",
       "      <th>4.000000</th>\n",
       "      <td>17.000000</td>\n",
       "    </tr>\n",
       "  </tbody>\n",
       "</table>\n",
       "</div>"
      ],
      "text/plain": [
       "          SKIPTOTAL\n",
       "H1GH2              \n",
       "0.000000   7.351111\n",
       "1.000000   9.080050\n",
       "2.000000  11.842011\n",
       "3.000000  13.457143\n",
       "4.000000  17.000000"
      ]
     },
     "execution_count": 13,
     "metadata": {},
     "output_type": "execute_result"
    }
   ],
   "source": [
    "## generated mean values based on the explanatory variable\n",
    "sub1.groupby('H1GH2').mean()"
   ]
  },
  {
   "cell_type": "code",
   "execution_count": 14,
   "metadata": {},
   "outputs": [
    {
     "data": {
      "text/html": [
       "<div>\n",
       "<style scoped>\n",
       "    .dataframe tbody tr th:only-of-type {\n",
       "        vertical-align: middle;\n",
       "    }\n",
       "\n",
       "    .dataframe tbody tr th {\n",
       "        vertical-align: top;\n",
       "    }\n",
       "\n",
       "    .dataframe thead th {\n",
       "        text-align: right;\n",
       "    }\n",
       "</style>\n",
       "<table border=\"1\" class=\"dataframe\">\n",
       "  <thead>\n",
       "    <tr style=\"text-align: right;\">\n",
       "      <th></th>\n",
       "      <th>SKIPTOTAL</th>\n",
       "    </tr>\n",
       "    <tr>\n",
       "      <th>H1GH2</th>\n",
       "      <th></th>\n",
       "    </tr>\n",
       "  </thead>\n",
       "  <tbody>\n",
       "    <tr>\n",
       "      <th>0.000000</th>\n",
       "      <td>11.562961</td>\n",
       "    </tr>\n",
       "    <tr>\n",
       "      <th>1.000000</th>\n",
       "      <td>13.466404</td>\n",
       "    </tr>\n",
       "    <tr>\n",
       "      <th>2.000000</th>\n",
       "      <td>15.984260</td>\n",
       "    </tr>\n",
       "    <tr>\n",
       "      <th>3.000000</th>\n",
       "      <td>16.695052</td>\n",
       "    </tr>\n",
       "    <tr>\n",
       "      <th>4.000000</th>\n",
       "      <td>19.956474</td>\n",
       "    </tr>\n",
       "  </tbody>\n",
       "</table>\n",
       "</div>"
      ],
      "text/plain": [
       "          SKIPTOTAL\n",
       "H1GH2              \n",
       "0.000000  11.562961\n",
       "1.000000  13.466404\n",
       "2.000000  15.984260\n",
       "3.000000  16.695052\n",
       "4.000000  19.956474"
      ]
     },
     "execution_count": 14,
     "metadata": {},
     "output_type": "execute_result"
    }
   ],
   "source": [
    "sub1.groupby('H1GH2').std()"
   ]
  },
  {
   "cell_type": "code",
   "execution_count": 15,
   "metadata": {},
   "outputs": [
    {
     "data": {
      "text/html": [
       "<table class=\"simpletable\">\n",
       "<caption>Multiple Comparison of Means - Tukey HSD,FWER=0.05</caption>\n",
       "<tr>\n",
       "  <th>group1</th> <th>group2</th> <th>meandiff</th>  <th>lower</th>   <th>upper</th>  <th>reject</th>\n",
       "</tr>\n",
       "<tr>\n",
       "    <td>0.0</td>    <td>1.0</td>   <td>1.7289</td>  <td>-1.0244</td> <td>4.4822</td>   <td>False</td>\n",
       "</tr>\n",
       "<tr>\n",
       "    <td>0.0</td>    <td>2.0</td>   <td>4.4909</td>  <td>1.4364</td>  <td>7.5454</td>   <td>True</td> \n",
       "</tr>\n",
       "<tr>\n",
       "    <td>0.0</td>    <td>3.0</td>    <td>6.106</td>  <td>1.9436</td>  <td>10.2685</td>  <td>True</td> \n",
       "</tr>\n",
       "<tr>\n",
       "    <td>0.0</td>    <td>4.0</td>   <td>9.6489</td>  <td>1.3454</td>  <td>17.9524</td>  <td>True</td> \n",
       "</tr>\n",
       "<tr>\n",
       "    <td>1.0</td>    <td>2.0</td>    <td>2.762</td>  <td>0.8594</td>  <td>4.6645</td>   <td>True</td> \n",
       "</tr>\n",
       "<tr>\n",
       "    <td>1.0</td>    <td>3.0</td>   <td>4.3771</td>  <td>0.9689</td>  <td>7.7852</td>   <td>True</td> \n",
       "</tr>\n",
       "<tr>\n",
       "    <td>1.0</td>    <td>4.0</td>   <td>7.9199</td>  <td>-0.0322</td> <td>15.8721</td>  <td>False</td>\n",
       "</tr>\n",
       "<tr>\n",
       "    <td>2.0</td>    <td>3.0</td>   <td>1.6151</td>  <td>-2.0407</td> <td>5.2709</td>   <td>False</td>\n",
       "</tr>\n",
       "<tr>\n",
       "    <td>2.0</td>    <td>4.0</td>    <td>5.158</td>  <td>-2.9034</td> <td>13.2194</td>  <td>False</td>\n",
       "</tr>\n",
       "<tr>\n",
       "    <td>3.0</td>    <td>4.0</td>   <td>3.5429</td>  <td>-5.0001</td> <td>12.0858</td>  <td>False</td>\n",
       "</tr>\n",
       "</table>"
      ],
      "text/plain": [
       "<class 'statsmodels.iolib.table.SimpleTable'>"
      ]
     },
     "execution_count": 15,
     "metadata": {},
     "output_type": "execute_result"
    }
   ],
   "source": [
    "import statsmodels.stats.multicomp as multi\n",
    "\n",
    "mc = multi.MultiComparison(sub1['SKIPTOTAL'], sub1['H1GH2']).tukeyhsd()\n",
    "mc.summary()"
   ]
  },
  {
   "cell_type": "code",
   "execution_count": null,
   "metadata": {},
   "outputs": [],
   "source": []
  },
  {
   "cell_type": "code",
   "execution_count": null,
   "metadata": {},
   "outputs": [],
   "source": []
  }
 ],
 "metadata": {
  "kernelspec": {
   "display_name": "Python 3",
   "language": "python",
   "name": "python3"
  },
  "language_info": {
   "codemirror_mode": {
    "name": "ipython",
    "version": 3
   },
   "file_extension": ".py",
   "mimetype": "text/x-python",
   "name": "python",
   "nbconvert_exporter": "python",
   "pygments_lexer": "ipython3",
   "version": "3.5.4"
  }
 },
 "nbformat": 4,
 "nbformat_minor": 2
}
